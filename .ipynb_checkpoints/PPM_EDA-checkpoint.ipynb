{
 "cells": [
  {
   "cell_type": "code",
   "execution_count": 2,
   "metadata": {},
   "outputs": [],
   "source": [
    "import pandas as pd\n",
    "import matplotlib.pyplot as plt\n",
    "import seaborn as sns"
   ]
  },
  {
   "cell_type": "code",
   "execution_count": 6,
   "metadata": {},
   "outputs": [
    {
     "data": {
      "text/html": [
       "<div>\n",
       "<style scoped>\n",
       "    .dataframe tbody tr th:only-of-type {\n",
       "        vertical-align: middle;\n",
       "    }\n",
       "\n",
       "    .dataframe tbody tr th {\n",
       "        vertical-align: top;\n",
       "    }\n",
       "\n",
       "    .dataframe thead th {\n",
       "        text-align: right;\n",
       "    }\n",
       "</style>\n",
       "<table border=\"1\" class=\"dataframe\">\n",
       "  <thead>\n",
       "    <tr style=\"text-align: right;\">\n",
       "      <th></th>\n",
       "      <th>Unnamed: 0</th>\n",
       "      <th>WO</th>\n",
       "      <th>Status</th>\n",
       "      <th>Description</th>\n",
       "      <th>Work Type</th>\n",
       "      <th>Assigned To</th>\n",
       "      <th>Priority</th>\n",
       "      <th>Location</th>\n",
       "      <th>Sign Off Notes</th>\n",
       "      <th>Subject</th>\n",
       "      <th>...</th>\n",
       "      <th>Done By</th>\n",
       "      <th>Entered By</th>\n",
       "      <th>Status 2</th>\n",
       "      <th>Status 3</th>\n",
       "      <th>Code</th>\n",
       "      <th>Station</th>\n",
       "      <th>Line</th>\n",
       "      <th>Frequency</th>\n",
       "      <th>System</th>\n",
       "      <th>Department 2</th>\n",
       "    </tr>\n",
       "  </thead>\n",
       "  <tbody>\n",
       "    <tr>\n",
       "      <th>0</th>\n",
       "      <td>0</td>\n",
       "      <td>252276</td>\n",
       "      <td>Scheduled</td>\n",
       "      <td>Weekly Legionella Prevention Checklist West Bay</td>\n",
       "      <td>PPM</td>\n",
       "      <td>rln-soft wsb</td>\n",
       "      <td>NaN</td>\n",
       "      <td>ACIFM/M/RED LINE/M001/01/RNST030</td>\n",
       "      <td>NaN</td>\n",
       "      <td>RNST030</td>\n",
       "      <td>...</td>\n",
       "      <td>NaN</td>\n",
       "      <td>Muhammad Khalid Shahab</td>\n",
       "      <td>Open</td>\n",
       "      <td>Open</td>\n",
       "      <td>RNST030</td>\n",
       "      <td>West Bay</td>\n",
       "      <td>Red Line</td>\n",
       "      <td>Weekly</td>\n",
       "      <td>not available</td>\n",
       "      <td>Soft Services</td>\n",
       "    </tr>\n",
       "    <tr>\n",
       "      <th>1</th>\n",
       "      <td>1</td>\n",
       "      <td>252275</td>\n",
       "      <td>Scheduled</td>\n",
       "      <td>Weekly Legionella Prevention Checklist WAKRA</td>\n",
       "      <td>PPM</td>\n",
       "      <td>rls-soft awk</td>\n",
       "      <td>NaN</td>\n",
       "      <td>ACIFM/M/RED LINE/M004/01/RSST070</td>\n",
       "      <td>NaN</td>\n",
       "      <td>RSST070</td>\n",
       "      <td>...</td>\n",
       "      <td>NaN</td>\n",
       "      <td>Muhammad Khalid Shahab</td>\n",
       "      <td>Open</td>\n",
       "      <td>Open</td>\n",
       "      <td>RSST070</td>\n",
       "      <td>Al Wakra</td>\n",
       "      <td>Red Line</td>\n",
       "      <td>Weekly</td>\n",
       "      <td>not available</td>\n",
       "      <td>Soft Services</td>\n",
       "    </tr>\n",
       "    <tr>\n",
       "      <th>2</th>\n",
       "      <td>2</td>\n",
       "      <td>252274</td>\n",
       "      <td>In Progress</td>\n",
       "      <td>Weekly Legionella Prevention Checklist Umma Gh...</td>\n",
       "      <td>PPM</td>\n",
       "      <td>rls-soft umg</td>\n",
       "      <td>NaN</td>\n",
       "      <td>ACIFM/M/RED LINE/M003/01/RSST020</td>\n",
       "      <td>NaN</td>\n",
       "      <td>RSST020</td>\n",
       "      <td>...</td>\n",
       "      <td>NaN</td>\n",
       "      <td>Muhammad Khalid Shahab</td>\n",
       "      <td>Open</td>\n",
       "      <td>Open</td>\n",
       "      <td>RSST020</td>\n",
       "      <td>Umm Ghuwailina</td>\n",
       "      <td>Red Line</td>\n",
       "      <td>Weekly</td>\n",
       "      <td>not available</td>\n",
       "      <td>Soft Services</td>\n",
       "    </tr>\n",
       "    <tr>\n",
       "      <th>3</th>\n",
       "      <td>3</td>\n",
       "      <td>252273</td>\n",
       "      <td>Scheduled</td>\n",
       "      <td>Weekly Legionella Prevention Checklist RBF</td>\n",
       "      <td>PPM</td>\n",
       "      <td>rls-soft rbf</td>\n",
       "      <td>NaN</td>\n",
       "      <td>ACIFM/M/RED LINE/M004/01/RSST060</td>\n",
       "      <td>NaN</td>\n",
       "      <td>RSST060</td>\n",
       "      <td>...</td>\n",
       "      <td>NaN</td>\n",
       "      <td>Muhammad Khalid Shahab</td>\n",
       "      <td>Open</td>\n",
       "      <td>Open</td>\n",
       "      <td>RSST060</td>\n",
       "      <td>Ras Bu Fontas</td>\n",
       "      <td>Red Line</td>\n",
       "      <td>Weekly</td>\n",
       "      <td>not available</td>\n",
       "      <td>Soft Services</td>\n",
       "    </tr>\n",
       "    <tr>\n",
       "      <th>4</th>\n",
       "      <td>4</td>\n",
       "      <td>252272</td>\n",
       "      <td>Scheduled</td>\n",
       "      <td>Weekly Legionella Prevention Checklist OQBA</td>\n",
       "      <td>PPM</td>\n",
       "      <td>rls-soft obn</td>\n",
       "      <td>NaN</td>\n",
       "      <td>ACIFM/M/RED LINE/M003/01/RSST040</td>\n",
       "      <td>NaN</td>\n",
       "      <td>RSST040</td>\n",
       "      <td>...</td>\n",
       "      <td>NaN</td>\n",
       "      <td>Muhammad Khalid Shahab</td>\n",
       "      <td>Open</td>\n",
       "      <td>Open</td>\n",
       "      <td>RSST040</td>\n",
       "      <td>Oqba Ibn Nafie</td>\n",
       "      <td>Red Line</td>\n",
       "      <td>Weekly</td>\n",
       "      <td>not available</td>\n",
       "      <td>Soft Services</td>\n",
       "    </tr>\n",
       "  </tbody>\n",
       "</table>\n",
       "<p>5 rows × 33 columns</p>\n",
       "</div>"
      ],
      "text/plain": [
       "   Unnamed: 0      WO       Status  \\\n",
       "0           0  252276    Scheduled   \n",
       "1           1  252275    Scheduled   \n",
       "2           2  252274  In Progress   \n",
       "3           3  252273    Scheduled   \n",
       "4           4  252272    Scheduled   \n",
       "\n",
       "                                         Description Work Type   Assigned To  \\\n",
       "0    Weekly Legionella Prevention Checklist West Bay       PPM  rln-soft wsb   \n",
       "1       Weekly Legionella Prevention Checklist WAKRA       PPM  rls-soft awk   \n",
       "2  Weekly Legionella Prevention Checklist Umma Gh...       PPM  rls-soft umg   \n",
       "3         Weekly Legionella Prevention Checklist RBF       PPM  rls-soft rbf   \n",
       "4        Weekly Legionella Prevention Checklist OQBA       PPM  rls-soft obn   \n",
       "\n",
       "   Priority                          Location Sign Off Notes  Subject  ...  \\\n",
       "0       NaN  ACIFM/M/RED LINE/M001/01/RNST030            NaN  RNST030  ...   \n",
       "1       NaN  ACIFM/M/RED LINE/M004/01/RSST070            NaN  RSST070  ...   \n",
       "2       NaN  ACIFM/M/RED LINE/M003/01/RSST020            NaN  RSST020  ...   \n",
       "3       NaN  ACIFM/M/RED LINE/M004/01/RSST060            NaN  RSST060  ...   \n",
       "4       NaN  ACIFM/M/RED LINE/M003/01/RSST040            NaN  RSST040  ...   \n",
       "\n",
       "  Done By              Entered By Status 2 Status 3     Code         Station  \\\n",
       "0     NaN  Muhammad Khalid Shahab     Open     Open  RNST030        West Bay   \n",
       "1     NaN  Muhammad Khalid Shahab     Open     Open  RSST070        Al Wakra   \n",
       "2     NaN  Muhammad Khalid Shahab     Open     Open  RSST020  Umm Ghuwailina   \n",
       "3     NaN  Muhammad Khalid Shahab     Open     Open  RSST060   Ras Bu Fontas   \n",
       "4     NaN  Muhammad Khalid Shahab     Open     Open  RSST040  Oqba Ibn Nafie   \n",
       "\n",
       "       Line  Frequency         System   Department 2  \n",
       "0  Red Line     Weekly  not available  Soft Services  \n",
       "1  Red Line     Weekly  not available  Soft Services  \n",
       "2  Red Line     Weekly  not available  Soft Services  \n",
       "3  Red Line     Weekly  not available  Soft Services  \n",
       "4  Red Line     Weekly  not available  Soft Services  \n",
       "\n",
       "[5 rows x 33 columns]"
      ]
     },
     "execution_count": 6,
     "metadata": {},
     "output_type": "execute_result"
    }
   ],
   "source": [
    "df = pd.read_excel(\"PPM output.xlsx\")\n",
    "df.head()"
   ]
  },
  {
   "cell_type": "code",
   "execution_count": 15,
   "metadata": {},
   "outputs": [
    {
     "data": {
      "text/plain": [
       "<matplotlib.axes._subplots.AxesSubplot at 0x27665c71a88>"
      ]
     },
     "execution_count": 15,
     "metadata": {},
     "output_type": "execute_result"
    },
    {
     "data": {
      "image/png": "[encoded data removed]",
      "text/plain": [
       "<Figure size 432x288 with 1 Axes>"
      ]
     },
     "metadata": {
      "needs_background": "light"
     },
     "output_type": "display_data"
    }
   ],
   "source": [
    "df['Status 2'].hist()"
   ]
  },
  {
   "cell_type": "code",
   "execution_count": 18,
   "metadata": {},
   "outputs": [
    {
     "data": {
      "text/plain": [
       "<matplotlib.axes._subplots.AxesSubplot at 0x27668c202c8>"
      ]
     },
     "execution_count": 18,
     "metadata": {},
     "output_type": "execute_result"
    },
    {
     "data": {
      "image/png": "[encoded data removed]",
      "text/plain": [
       "<Figure size 432x288 with 1 Axes>"
      ]
     },
     "metadata": {
      "needs_background": "light"
     },
     "output_type": "display_data"
    }
   ],
   "source": [
    "df['Department 2'].hist()"
   ]
  },
  {
   "cell_type": "code",
   "execution_count": null,
   "metadata": {},
   "outputs": [],
   "source": []
  }
 ],
 "metadata": {
  "kernelspec": {
   "display_name": "Python 3",
   "language": "python",
   "name": "python3"
  },
  "language_info": {
   "codemirror_mode": {
    "name": "ipython",
    "version": 3
   },
   "file_extension": ".py",
   "mimetype": "text/x-python",
   "name": "python",
   "nbconvert_exporter": "python",
   "pygments_lexer": "ipython3",
   "version": "3.7.6"
  }
 },
 "nbformat": 4,
 "nbformat_minor": 4
}
